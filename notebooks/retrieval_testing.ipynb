{
 "cells": [
  {
   "cell_type": "code",
   "id": "initial_id",
   "metadata": {
    "collapsed": true,
    "ExecuteTime": {
     "end_time": "2025-10-29T13:07:27.065187Z",
     "start_time": "2025-10-29T13:07:27.059671Z"
    }
   },
   "source": [
    "import sys\n",
    "from pathlib import Path\n",
    "from retrieval import load_passages_from_zip"
   ],
   "outputs": [],
   "execution_count": 7
  },
  {
   "metadata": {
    "ExecuteTime": {
     "end_time": "2025-10-29T13:17:36.336722Z",
     "start_time": "2025-10-29T13:17:36.306298Z"
    }
   },
   "cell_type": "code",
   "source": "path = \"../data/corpora/passage_level/cloud.jsonl.zip\"",
   "id": "17240b92f273234",
   "outputs": [],
   "execution_count": 13
  },
  {
   "metadata": {
    "ExecuteTime": {
     "end_time": "2025-10-29T13:17:38.008062Z",
     "start_time": "2025-10-29T13:17:37.953972Z"
    }
   },
   "cell_type": "code",
   "source": [
    "passages = load_passages_from_zip(path, limit = 5)\n",
    "print(f\"Loaded {len(passages)} passages\\n\")\n",
    "\n",
    "for p in passages:\n",
    "    print(f\"ID: {p['id']}\")\n",
    "    print(f\"Title: {p['title']}\")\n",
    "    print(f\"Text: {p['text'][:150]}...\\n\")\n"
   ],
   "id": "f04a69f327167cbc",
   "outputs": [
    {
     "name": "stdout",
     "output_type": "stream",
     "text": [
      "Loaded 5 passages\n",
      "\n",
      "ID: ibmcld_00422-0-387\n",
      "Title: \n",
      "Text: Video - Setting up a web app with security groups, load balancer & CDN \n",
      "\n",
      "IBM Cloud® network services, including load balancer, security groups, and CD...\n",
      "\n",
      "ID: ibmcld_00423-7-1742\n",
      "Title: \n",
      "Text: Setting advanced rules \n",
      "\n",
      "After your CDN is running, you can set advanced rules to optimize network performance. For example, control access through ge...\n",
      "\n",
      "ID: ibmcld_00423-1296-2298\n",
      "Title: \n",
      "Text: For more information, see [Hotlink protection](https://cloud.ibm.com/docs/CDN?topic=CDN-about-content-delivery-networks-cdn-hotlink-protection).\n",
      "* Tok...\n",
      "\n",
      "ID: ibmcld_00424-0-1490\n",
      "Title: \n",
      "Text: Setting content caching time using \"Time To Live\" \n",
      "\n",
      "After your CDN is running, you can set your content caching time using Time To Live (TTL). The Tim...\n",
      "\n",
      "ID: ibmcld_00425-0-260\n",
      "Title: \n",
      "Text: South American region \n",
      "\n",
      "\n",
      "\n",
      "*  Argentina\n",
      "*  Bolivia\n",
      "*  Brazil\n",
      "*  Chile\n",
      "*  Colombia\n",
      "*  Costa Rica\n",
      "*  Ecuador\n",
      "*  Falkland Islands\n",
      "*  French Guiana\n",
      "*  Guya...\n",
      "\n"
     ]
    }
   ],
   "execution_count": 14
  },
  {
   "metadata": {},
   "cell_type": "code",
   "outputs": [],
   "execution_count": null,
   "source": "",
   "id": "a9083cda85234425"
  }
 ],
 "metadata": {
  "kernelspec": {
   "display_name": "Python 3",
   "language": "python",
   "name": "python3"
  },
  "language_info": {
   "codemirror_mode": {
    "name": "ipython",
    "version": 2
   },
   "file_extension": ".py",
   "mimetype": "text/x-python",
   "name": "python",
   "nbconvert_exporter": "python",
   "pygments_lexer": "ipython2",
   "version": "2.7.6"
  }
 },
 "nbformat": 4,
 "nbformat_minor": 5
}
